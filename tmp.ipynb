{
 "cells": [
  {
   "cell_type": "code",
   "execution_count": 22,
   "metadata": {},
   "outputs": [],
   "source": [
    "metadata = {\n",
    "    \"name\": \"yolo_v8_model\",\n",
    "    \"type\": \"yolo8s\",\n",
    "    \"model\": \"/models/yolo_v8_model.pt\",\n",
    "    \"dataset\": \"/datasets/yolo_v8_model/\",\n",
    "    \"version\": \"1.0\",\n",
    "    \"uploaded_by\": \"developer1\",\n",
    "    \"comment\": \"text\",\n",
    "}"
   ]
  },
  {
   "cell_type": "code",
   "execution_count": 23,
   "metadata": {},
   "outputs": [
    {
     "data": {
      "text/plain": [
       "'yolo_v8_model'"
      ]
     },
     "execution_count": 23,
     "metadata": {},
     "output_type": "execute_result"
    }
   ],
   "source": [
    "metadata['name']"
   ]
  },
  {
   "cell_type": "code",
   "execution_count": 24,
   "metadata": {},
   "outputs": [
    {
     "data": {
      "text/plain": [
       "{'name': 'yolo_v8_model',\n",
       " 'type': 'yolo8s',\n",
       " 'model': '/models/yolo_v8_model.pt',\n",
       " 'dataset': '/datasets/yolo_v8_model/',\n",
       " 'version': '1.0',\n",
       " 'uploaded_by': 'developer1',\n",
       " 'comment': 'text'}"
      ]
     },
     "execution_count": 24,
     "metadata": {},
     "output_type": "execute_result"
    }
   ],
   "source": [
    "metadata"
   ]
  },
  {
   "cell_type": "code",
   "execution_count": 25,
   "metadata": {},
   "outputs": [
    {
     "data": {
      "text/plain": [
       "{'new_key': 'new_value',\n",
       " 'name': 'yolo_v8_model',\n",
       " 'type': 'yolo8s',\n",
       " 'model': '/models/yolo_v8_model.pt',\n",
       " 'dataset': '/datasets/yolo_v8_model/',\n",
       " 'version': '1.0',\n",
       " 'uploaded_by': 'developer1',\n",
       " 'comment': 'text'}"
      ]
     },
     "execution_count": 25,
     "metadata": {},
     "output_type": "execute_result"
    }
   ],
   "source": [
    "new_dict = {'new_key': 'new_value', **metadata}\n",
    "new_dict"
   ]
  },
  {
   "cell_type": "code",
   "execution_count": null,
   "metadata": {},
   "outputs": [],
   "source": []
  }
 ],
 "metadata": {
  "kernelspec": {
   "display_name": "venv",
   "language": "python",
   "name": "python3"
  },
  "language_info": {
   "codemirror_mode": {
    "name": "ipython",
    "version": 3
   },
   "file_extension": ".py",
   "mimetype": "text/x-python",
   "name": "python",
   "nbconvert_exporter": "python",
   "pygments_lexer": "ipython3",
   "version": "3.10.10"
  }
 },
 "nbformat": 4,
 "nbformat_minor": 2
}
